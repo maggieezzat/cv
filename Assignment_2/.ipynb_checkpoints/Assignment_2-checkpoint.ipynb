{
 "cells": [
  {
   "cell_type": "markdown",
   "metadata": {},
   "source": [
    "## Computer Vision - Assignment 2  \n",
    "\n",
    "#### Maggie Ezzat Gamil Gaid       T-16       37-575   \n",
    "#### Mariz Samir Mounir Awad      T-12       37-2632"
   ]
  },
  {
   "cell_type": "markdown",
   "metadata": {},
   "source": [
    "### Problem 1:"
   ]
  },
  {
   "cell_type": "code",
   "execution_count": 7,
   "metadata": {},
   "outputs": [],
   "source": [
    "from PIL import Image\n",
    "import numpy as np \n",
    "import math\n",
    "import matplotlib.pyplot as plt"
   ]
  },
  {
   "cell_type": "code",
   "execution_count": 29,
   "metadata": {},
   "outputs": [],
   "source": [
    "def getLOGkernel(sigma):\n",
    "    \n",
    "    s = 2 * math.ceil(3*sigma) + 1\n",
    "    r = math.floor(s/2)\n",
    "    \n",
    "    kernel = np.zeros(shape=(s,s))\n",
    "\n",
    "    for x in range(-r, r+1):\n",
    "        for y in range(-r, r+1):\n",
    "            \n",
    "            f0 = ( (x**2) + (y**2) ) / ( 2* (sigma**2) )\n",
    "            f1 = -1 / ( (math.pi) * (sigma**4) )\n",
    "            f2 = 1 - f0\n",
    "            f3 = math.exp(-1* (f0))\n",
    "            val = (f1)*(f2)*(f3)\n",
    "            kernel[x+r][y+r] = val\n",
    "    \n",
    "    return kernel\n"
   ]
  },
  {
   "cell_type": "code",
   "execution_count": 52,
   "metadata": {},
   "outputs": [],
   "source": [
    "def convolve(img, kernel):\n",
    "    \n",
    "    conv_img = np.zeros(shape=(256,256))\n",
    "    \n",
    "    r = math.floor((kernel.shape[0])/2)\n",
    "\n",
    "    for i in range (r,img.shape[0]-r):\n",
    "        for j in range (r,img.shape[1]-r):\n",
    "            val = 0\n",
    "            for k in range(-r, r+1):\n",
    "                for l in range(-r,r+1):\n",
    "                    val += img[i+k][j+l]*kernel[k+r][l+r]\n",
    "\n",
    "            conv_img[i][j] = val\n",
    "    \n",
    "    return conv_img"
   ]
  },
  {
   "cell_type": "code",
   "execution_count": 40,
   "metadata": {},
   "outputs": [],
   "source": [
    "def get_zero_crossings(arr):\n",
    "    \n",
    "    zero_cross = np.zeros(arr.shape)\n",
    "    \n",
    "    for i in range(1, arr.shape[0]-1):\n",
    "        for j in range(1, arr.shape[1]-1):\n",
    "            \n",
    "            if arr[i][j] >= 0:\n",
    "                if arr[i+1][j] <0 or arr[i-1][j] <0 or arr[i][j+1] <0 or arr[i][j-1]<0:\n",
    "                    zero_cross[i][j] = 255\n",
    "            elif arr[i][j] <0: \n",
    "                if arr[i+1][j] >=0 or arr[i-1][j] >=0 or arr[i][j+1] >=0 or arr[i][j-1]>=0:\n",
    "                    zero_cross[i][j] = 255\n",
    "                    \n",
    "    return zero_cross\n",
    "                "
   ]
  },
  {
   "cell_type": "code",
   "execution_count": 46,
   "metadata": {},
   "outputs": [],
   "source": [
    "def applyPrewitt(img):\n",
    "    \n",
    "    prewitt = np.zeros(shape=(256,256), dtype=np.float64)\n",
    "\n",
    "    for i in range (1,img.shape[0]-1):\n",
    "        for j in range (1,img.shape[1]-1):\n",
    "            h1 = int(img[i-1][j-1]) + int(img[i-1][j]) + int(img[i-1][j+1]) - int(img[i+1][j-1]) - int(img[i+1][j]) - int(img[i+1][j+1])\n",
    "            h2 = int(img[i-1][j+1]) + int(img[i][j+1]) + int(img[i+1][j+1]) - int(img[i-1][j-1]) - int(img[i][j-1]) - int(img[i+1][j-1]) \n",
    "\n",
    "            prewitt[i][j] = np.float64(( (np.float64(h1))**2 + (np.float64(h2))**2 )**0.5)\n",
    "    \n",
    "    return prewitt"
   ]
  },
  {
   "cell_type": "code",
   "execution_count": 53,
   "metadata": {},
   "outputs": [],
   "source": [
    "def applyThreshold(img, t):\n",
    "    \n",
    "    out = np.zeros(shape=(256,256)).astype(int)\n",
    "    \n",
    "    for i in range(img.shape[0]):\n",
    "        for j in range(img.shape[1]):\n",
    "            if img[i][j] <= t:\n",
    "                out[i][j]=0\n",
    "            else:\n",
    "                out[i][j]=255\n",
    "                \n",
    "    return out"
   ]
  },
  {
   "cell_type": "code",
   "execution_count": 54,
   "metadata": {},
   "outputs": [],
   "source": [
    "def applyLOG(image, sigma, t=0.1):\n",
    "    \n",
    "    kernel = getLOGkernel(sigma)\n",
    "    \n",
    "    image = image.convert('L')\n",
    "    img = np.array(image)\n",
    "    \n",
    "    conv_img = convolve(img, kernel)\n",
    "    print(conv_img.shape)\n",
    "    plt.imshow(conv_img, cmap=\"gray\")\n",
    "    \n",
    "    output = applyPrewitt(conv_img)\n",
    "    print(output.shape)\n",
    "    plt.imshow(output, cmap=\"gray\")\n",
    "    output = applyThreshold(output, t)\n",
    "    print(output.shape)\n",
    "    plt.imshow(output, cmap=\"gray\")\n",
    "                    \n",
    "    #output_img = zero_crossings\n",
    "    #output_img = zero_crossings * (255/ zero_crossings.max())\n",
    "    #output_img = output_img.astype('uint8')\n",
    "    #output_img = Image.fromarray(output_img)\n",
    "    return output\n",
    "        "
   ]
  },
  {
   "cell_type": "code",
   "execution_count": null,
   "metadata": {},
   "outputs": [],
   "source": []
  },
  {
   "cell_type": "code",
   "execution_count": 55,
   "metadata": {},
   "outputs": [
    {
     "data": {
      "image/png": "[encoded data removed]",
      "text/plain": [
       "<PIL.PngImagePlugin.PngImageFile image mode=L size=256x256 at 0x1DD136FF108>"
      ]
     },
     "execution_count": 55,
     "metadata": {},
     "output_type": "execute_result"
    }
   ],
   "source": [
    "img = Image.open(\"Cameraman.png\")\n",
    "img"
   ]
  },
  {
   "cell_type": "code",
   "execution_count": 56,
   "metadata": {
    "scrolled": true
   },
   "outputs": [
    {
     "data": {
      "text/plain": [
       "<matplotlib.image.AxesImage at 0x1dd125e8808>"
      ]
     },
     "execution_count": 56,
     "metadata": {},
     "output_type": "execute_result"
    },
    {
     "data": {
      "image/png": "[encoded data removed]",
      "text/plain": [
       "<Figure size 432x288 with 1 Axes>"
      ]
     },
     "metadata": {
      "needs_background": "light"
     },
     "output_type": "display_data"
    }
   ],
   "source": [
    "plt.imshow(edges, cmap=\"gray\")"
   ]
  },
  {
   "cell_type": "code",
   "execution_count": 57,
   "metadata": {
    "scrolled": false
   },
   "outputs": [
    {
     "name": "stdout",
     "output_type": "stream",
     "text": [
      "(256, 256)\n",
      "(256, 256)\n",
      "(256, 256)\n"
     ]
    },
    {
     "data": {
      "image/png": "[encoded data removed]",
      "text/plain": [
       "<Figure size 432x288 with 1 Axes>"
      ]
     },
     "metadata": {
      "needs_background": "light"
     },
     "output_type": "display_data"
    }
   ],
   "source": [
    "edges = applyLOG(img, 0.5)\n",
    "\n",
    "#plt.imshow(edges, cmap=\"gray\")"
   ]
  },
  {
   "cell_type": "code",
   "execution_count": null,
   "metadata": {},
   "outputs": [],
   "source": [
    "edges = applyLOG(img, 2)\n",
    "plt.imshow(edges, cmap=\"gray\")"
   ]
  },
  {
   "cell_type": "code",
   "execution_count": null,
   "metadata": {},
   "outputs": [],
   "source": [
    "edges = applyLOG(img, 3)\n",
    "plt.imshow(edges, cmap=\"gray\")"
   ]
  },
  {
   "cell_type": "code",
   "execution_count": null,
   "metadata": {},
   "outputs": [],
   "source": [
    "edges = applyLOG(img, 4)\n",
    "plt.imshow(edges, cmap=\"gray\")"
   ]
  },
  {
   "cell_type": "code",
   "execution_count": null,
   "metadata": {},
   "outputs": [],
   "source": [
    "edges = applyLOG(img, 5)\n",
    "plt.imshow(edges, cmap=\"gray\")"
   ]
  },
  {
   "cell_type": "code",
   "execution_count": null,
   "metadata": {},
   "outputs": [],
   "source": [
    "edges = applyLOG(img, 0.5)\n",
    "plt.imshow(edges, cmap=\"gray\")"
   ]
  },
  {
   "cell_type": "code",
   "execution_count": null,
   "metadata": {},
   "outputs": [],
   "source": [
    "edges = applyLOG(img, 2)\n",
    "plt.imshow(edges, cmap=\"gray\")"
   ]
  },
  {
   "cell_type": "code",
   "execution_count": null,
   "metadata": {},
   "outputs": [],
   "source": [
    "edges = applyLOG(img, 3)\n",
    "plt.imshow(edges, cmap=\"gray\")"
   ]
  },
  {
   "cell_type": "code",
   "execution_count": null,
   "metadata": {},
   "outputs": [],
   "source": [
    "edges = applyLOG(img, 4)\n",
    "plt.imshow(edges, cmap=\"gray\")"
   ]
  },
  {
   "cell_type": "code",
   "execution_count": null,
   "metadata": {},
   "outputs": [],
   "source": [
    "edges = applyLOG(img, 5)\n",
    "plt.imshow(edges, cmap=\"gray\")"
   ]
  },
  {
   "cell_type": "code",
   "execution_count": null,
   "metadata": {},
   "outputs": [],
   "source": []
  }
 ],
 "metadata": {
  "kernelspec": {
   "display_name": "Python 3",
   "language": "python",
   "name": "python3"
  },
  "language_info": {
   "codemirror_mode": {
    "name": "ipython",
    "version": 3
   },
   "file_extension": ".py",
   "mimetype": "text/x-python",
   "name": "python",
   "nbconvert_exporter": "python",
   "pygments_lexer": "ipython3",
   "version": "3.7.5"
  }
 },
 "nbformat": 4,
 "nbformat_minor": 2
}
