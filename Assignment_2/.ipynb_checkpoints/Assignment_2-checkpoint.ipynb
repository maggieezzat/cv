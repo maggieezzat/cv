{
 "cells": [
  {
   "cell_type": "markdown",
   "metadata": {},
   "source": [
    "## Computer Vision - Assignment 1  \n",
    "\n",
    "#### Maggie Ezzat Gamil Gaid       T-16       37-575   \n",
    "#### Mariz Samir Mounir Awad      T-12       37-2632"
   ]
  },
  {
   "cell_type": "markdown",
   "metadata": {},
   "source": [
    "### Problem 1:"
   ]
  },
  {
   "cell_type": "code",
   "execution_count": null,
   "metadata": {},
   "outputs": [],
   "source": [
    "from PIL import Image\n",
    "import numpy as np \n",
    "import math\n",
    "import matplotlib.pyplot as plt\n"
   ]
  },
  {
   "cell_type": "code",
   "execution_count": null,
   "metadata": {},
   "outputs": [],
   "source": [
    "def getLOGkernel(sigma):\n",
    "    s = 2 * math.ceil(3*sigma) + 1\n",
    "    r = math.floor(s/2)\n",
    "    \n",
    "    kernel = np.zeros(shape=(s,s))\n",
    "\n",
    "    for x in range(-r, r+1):\n",
    "        for y in range(-r, r+1):\n",
    "            \n",
    "            f0 = ( (x**2) + (y**2) ) / ( 2* (sigma**2) )\n",
    "            f1 = -1 / ( (math.pi) * (sigma**4) )\n",
    "            f2 = 1 - f0\n",
    "            f3 = math.exp(-1* (f0))\n",
    "            val = (f1)*(f2)*(f3)\n",
    "            kernel[x+r][y+r] = val\n",
    "    \n",
    "    return kernel\n"
   ]
  },
  {
   "cell_type": "code",
   "execution_count": null,
   "metadata": {},
   "outputs": [],
   "source": [
    "def get_zero_crossings(arr):\n",
    "    \n",
    "    zero_cross = np.zeros(arr.shape)\n",
    "    \n",
    "    for i in range(1, arr.shape[0]-1):\n",
    "        for j in range(1, arr.shape[1]-1):\n",
    "            if arr[i][j] >= 0:\n",
    "                if arr[i+1][j] <0 or arr[i-1][j] <0 or arr[i][j+1] <0 or arr[i][j-1]<0:\n",
    "                    zero_cross[i][j] = 255\n",
    "            elif arr[i][j] <0: \n",
    "                if arr[i+1][j] >=0 or arr[i-1][j] >=0 or arr[i][j+1] >=0 or arr[i][j-1]>=0:\n",
    "                    zero_cross[i][j] = 255\n",
    "                    \n",
    "    return zero_cross\n",
    "                "
   ]
  },
  {
   "cell_type": "code",
   "execution_count": null,
   "metadata": {},
   "outputs": [],
   "source": [
    "def applyPrewitt(img):\n",
    "    \n",
    "    prewitt = np.zeros(shape=img.shape)\n",
    "    h1_sq = np.zeros(shape=img.shape)\n",
    "    h2_sq = np.zeros(shape=img.shape)\n",
    "    \n",
    "    for i in range (1,img.shape[0]-1):\n",
    "        for j in range (1,img.shape[1]-1):\n",
    "            h1 = img[i-1][j-1] + img[i-1][j] + img[i-1][j+1] - img[i+1][j-1] - img[i+1][j] - img[i+1][j+1]\n",
    "            h2 = img[i-1][j+1] + img[i][j+1] + img[i+1][j+1] - img[i-1][j-1] - img[i][j-1] - img[i+1][j-1] \n",
    "            #h1_sq[i][j] = (int(h1)**2)\n",
    "            #h2_sq[i][j] = (int(h2)**2)\n",
    "            #_sum = np.add(h1_sq[i][j],h2_sq[i][j])\n",
    "            #prewitt[i][j] = np.sqrt(_sum)\n",
    "            prewitt[i][j] = ( (int(h1))**2 + (int(h2))**2 )**0.5\n",
    "    \n",
    "    return prewitt"
   ]
  },
  {
   "cell_type": "code",
   "execution_count": null,
   "metadata": {},
   "outputs": [],
   "source": [
    "img = Image.open(\"Cameraman.png\")\n",
    "img = np.array(img)\n",
    "applyPrewitt(img)"
   ]
  },
  {
   "cell_type": "code",
   "execution_count": null,
   "metadata": {},
   "outputs": [],
   "source": [
    "def applyLOG(image, sigma, t=0.1):\n",
    "    \n",
    "    kernel = getLOGkernel(sigma)\n",
    "    #kernel = np.array([[0,0,0,1,1,1,0,0,0],[0,0,2,3,4,3,2,0,0],[0,2,4,5,4,5,4,2,0],\n",
    "    #          [1,3,5,-6,-18,-6,5,3,1],[1,4,4,-18,-40,-18,4,4,1],[1,3,5,-6,-18,-6,5,3,1],\n",
    "    #          [0,2,4,5,4,5,4,2,0], [0,0,2,3,4,3,2,0,0], [0,0,0,1,1,1,0,0,0]])\n",
    "    \n",
    "    image = image.convert('L')\n",
    "    img = np.array(image)\n",
    "    conv_img = np.zeros(shape=(256,256))\n",
    "    \n",
    "    r = math.floor((kernel.shape[0])/2)\n",
    "    sum_pos=0\n",
    "    sum_neg=0\n",
    "    for i in range (r,img.shape[0]-r):\n",
    "        for j in range (r,img.shape[1]-r):\n",
    "            val = 0\n",
    "            for k in range(-r, r+1):\n",
    "                for l in range(-r,r+1):\n",
    "                    val += img[i+k][j+l]*kernel[k+r][l+r]\n",
    "\n",
    "            conv_img[i][j] = val\n",
    "\n",
    "    zero_crossings = get_zero_crossings(conv_img)\n",
    "    prewitt = applyPrewitt(img)\n",
    "    \n",
    "    for i in range(zero_crossings.shape[0]):\n",
    "        for j in range(zero_crossings.shape[1]):\n",
    "            if zero_crossings[i][j]==255:\n",
    "                if prewitt[i][j] < t:\n",
    "                    zero_crossings[i][j]=0\n",
    "                    \n",
    "    output_img = zero_crossings\n",
    "    #output_img = zero_crossings * (255/ zero_crossings.max())\n",
    "    #output_img = output_img.astype('uint8')\n",
    "    #output_img = Image.fromarray(output_img)\n",
    "    return output_img\n",
    "        "
   ]
  },
  {
   "cell_type": "code",
   "execution_count": null,
   "metadata": {
    "scrolled": true
   },
   "outputs": [],
   "source": [
    "img = Image.open(\"Cameraman.png\")"
   ]
  },
  {
   "cell_type": "code",
   "execution_count": null,
   "metadata": {
    "scrolled": false
   },
   "outputs": [],
   "source": [
    "edges = applyLOG(img, 0.5)\n",
    "plt.imshow(edges, cmap=\"gray\")"
   ]
  },
  {
   "cell_type": "code",
   "execution_count": null,
   "metadata": {},
   "outputs": [],
   "source": [
    "edges = applyLOG(img, 2)\n",
    "plt.imshow(edges, cmap=\"gray\")"
   ]
  },
  {
   "cell_type": "code",
   "execution_count": null,
   "metadata": {},
   "outputs": [],
   "source": [
    "edges = applyLOG(img, 3)\n",
    "plt.imshow(edges, cmap=\"gray\")"
   ]
  },
  {
   "cell_type": "code",
   "execution_count": null,
   "metadata": {},
   "outputs": [],
   "source": [
    "edges = applyLOG(img, 3)\n",
    "plt.imshow(edges, cmap=\"gray\")"
   ]
  },
  {
   "cell_type": "code",
   "execution_count": null,
   "metadata": {},
   "outputs": [],
   "source": [
    "edges = applyLOG(img, 5)\n",
    "plt.imshow(edges, cmap=\"gray\")"
   ]
  },
  {
   "cell_type": "code",
   "execution_count": null,
   "metadata": {},
   "outputs": [],
   "source": []
  }
 ],
 "metadata": {
  "kernelspec": {
   "display_name": "Python 3",
   "language": "python",
   "name": "python3"
  },
  "language_info": {
   "codemirror_mode": {
    "name": "ipython",
    "version": 3
   },
   "file_extension": ".py",
   "mimetype": "text/x-python",
   "name": "python",
   "nbconvert_exporter": "python",
   "pygments_lexer": "ipython3",
   "version": "3.7.5"
  }
 },
 "nbformat": 4,
 "nbformat_minor": 2
}
