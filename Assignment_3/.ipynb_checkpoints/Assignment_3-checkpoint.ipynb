{
 "cells": [
  {
   "cell_type": "markdown",
   "metadata": {},
   "source": [
    "## Computer Vision - Assignment 1  \n",
    "\n",
    "#### Maggie Ezzat Gamil Gaid       T-16       37-575   \n",
    "#### Mariz Samir Mounir Awad      T-12       37-2632\n"
   ]
  },
  {
   "cell_type": "code",
   "execution_count": 1,
   "metadata": {},
   "outputs": [],
   "source": [
    "from PIL import Image\n",
    "import numpy as np \n",
    "import math\n",
    "import matplotlib.pyplot as plt"
   ]
  },
  {
   "cell_type": "code",
   "execution_count": 2,
   "metadata": {},
   "outputs": [],
   "source": [
    "def init_thresholds(n):\n",
    "    '''\n",
    "        inputs: integer n\n",
    "        outputs: a list of n thresholds\n",
    "    '''\n",
    "    l = np.arange(0,256)\n",
    "    thresholds = []\n",
    "    r = 256 / (n+1)\n",
    "    \n",
    "    for i in range(0, len(l), int(r)):\n",
    "        thresholds.append(i)\n",
    "    \n",
    "    thresholds = thresholds[1:len(thresholds)]\n",
    "    if len(thresholds) > n:\n",
    "        thresholds = thresholds[0:len(thresholds)-1]\n",
    "    \n",
    "    return thresholds"
   ]
  },
  {
   "cell_type": "code",
   "execution_count": 3,
   "metadata": {},
   "outputs": [],
   "source": [
    "def calc_membership(threshold_list, np_img):\n",
    "    '''\n",
    "        inputs: list of n thresholds and numpy array of the image\n",
    "        output: a numpy array of same size as image size, with memberships assigned\n",
    "        e.g membership[0][0] = 2 means it belongs to segment with ID 2\n",
    "    '''\n",
    "    \n",
    "    membership_arr = np.zeros(np_img.shape).astype(int)\n",
    "    t_list = threshold_list[:]\n",
    "    \n",
    "    t_list.insert(0,0)\n",
    "    t_list.append(255)\n",
    "    \n",
    "    for i in range(np_img.shape[0]):\n",
    "        for j in range(np_img.shape[1]):\n",
    "            pixel = np_img[i][j]\n",
    "            \n",
    "            for t_index in range(len(t_list)-1):\n",
    "                if pixel >= t_list[t_index] and pixel < t_list[t_index+1]:\n",
    "                    membership_arr[i][j] = t_index\n",
    "    \n",
    "    return membership_arr"
   ]
  },
  {
   "cell_type": "code",
   "execution_count": 4,
   "metadata": {},
   "outputs": [],
   "source": [
    "def calc_means(np_img, membership, n_segments):\n",
    "    '''\n",
    "        inputs: numpy array of image, membership array indicating the segment of each pixel,\n",
    "                the number of segments\n",
    "        outputs: list containing means of all segments\n",
    "    '''\n",
    "    sums = np.zeros(shape=n_segments)\n",
    "    counts = np.zeros(shape=n_segments) \n",
    "    means = np.zeros(shape=n_segments)\n",
    "    \n",
    "    for i in range(membership.shape[0]):\n",
    "        for j in range(membership.shape[1]):\n",
    "            \n",
    "            pixel_val = np_img[i][j]\n",
    "            segment = int(membership[i][j])\n",
    "            sums[segment] += pixel_val\n",
    "            counts[segment] += 1 \n",
    "    \n",
    "    for i in range(len(means)):\n",
    "        if counts[i] != 0:\n",
    "            means[i] = sums[i] / counts[i]\n",
    "        else:\n",
    "            means[i] = 0\n",
    "        \n",
    "    return means"
   ]
  },
  {
   "cell_type": "code",
   "execution_count": 5,
   "metadata": {},
   "outputs": [],
   "source": [
    "def update_thresholds(means, thresholds):\n",
    "    '''\n",
    "        inputs: means, thresholds\n",
    "        outputs: updated thresholds\n",
    "    '''\n",
    "    new_thresholds = []\n",
    "    \n",
    "    for i in range(len(means)-1):\n",
    "        t = int((means[i] + means[i+1]) / 2)\n",
    "        new_thresholds.append(t)\n",
    "    \n",
    "    return new_thresholds"
   ]
  },
  {
   "cell_type": "code",
   "execution_count": 6,
   "metadata": {},
   "outputs": [],
   "source": [
    "def get_binary(membership_arr, segment_ID):\n",
    "    '''\n",
    "        inputs: membership array with each value indicating the segment id this location benlongs to.\n",
    "                segment id required to generate binary image for\n",
    "        outputs: binary numpy array of zeros and 255's\n",
    "    ''' \n",
    "    binary = np.zeros(membership_arr.shape)\n",
    "    \n",
    "    for i in range(membership_arr.shape[0]):\n",
    "        for j in range(membership_arr.shape[1]):\n",
    "            if membership_arr[i][j] == segment_ID:\n",
    "                binary[i][j] = 255\n",
    "                \n",
    "    binary = Image.fromarray(binary)\n",
    "    binary = binary.convert(\"L\")\n",
    "\n",
    "    return binary\n",
    "\n",
    "def generate_binary_images(membership_arr, n_segments):\n",
    "    \n",
    "    binary_images = []\n",
    "    \n",
    "    for seg_ID in range(n_segments):\n",
    "        im = get_binary(membership_arr, seg_ID)\n",
    "        binary_images.append(im)\n",
    "        \n",
    "    return binary_images"
   ]
  },
  {
   "cell_type": "code",
   "execution_count": 7,
   "metadata": {},
   "outputs": [],
   "source": [
    "def generate_grayscale_img(membership_arr, n_segments, means):\n",
    "    \n",
    "    grayscale_img = np.zeros(membership_arr.shape)\n",
    "    \n",
    "    for i in range(membership_arr.shape[0]):\n",
    "        for j in range(membership_arr.shape[1]):\n",
    "            segment_ID = int(membership_arr[i][j])\n",
    "            gray_level = means[segment_ID]\n",
    "            grayscale_img[i][j] = gray_level\n",
    "            \n",
    "    grayscale_img = Image.fromarray(grayscale_img)\n",
    "    grayscale_img = grayscale_img.convert(\"L\")\n",
    "            \n",
    "    return grayscale_img"
   ]
  },
  {
   "cell_type": "code",
   "execution_count": 8,
   "metadata": {},
   "outputs": [],
   "source": [
    "def compare_arr(arr1, arr2):\n",
    "    if len(arr1) != len(arr2):\n",
    "        return False\n",
    "    for i in range(len(arr1)):\n",
    "        if arr1[i] != arr2[i]:\n",
    "            return False\n",
    "    return True"
   ]
  },
  {
   "cell_type": "code",
   "execution_count": 9,
   "metadata": {},
   "outputs": [],
   "source": [
    "def optimal_thresh(img, n):\n",
    "    \n",
    "    n_segments = n+1\n",
    "    np_img = np.array(img)\n",
    "    thresholds = init_thresholds(n)\n",
    "    prev_thresholds = thresholds[:]\n",
    "    membership_arr = calc_membership(thresholds, np_img)\n",
    "    means = calc_means(np_img, membership_arr, n_segments)\n",
    "    \n",
    "    while True:\n",
    "        prev_thresholds = thresholds[:]\n",
    "        membership_arr = calc_membership(thresholds, np_img)\n",
    "        means = calc_means(np_img, membership_arr, n_segments)\n",
    "        thresholds = update_thresholds(means, thresholds)\n",
    "        truth = compare_arr(thresholds, prev_thresholds)\n",
    "        if truth:\n",
    "            break\n",
    "            \n",
    "    binary_images = generate_binary_images(membership_arr, n_segments)\n",
    "    grayscale_img = generate_grayscale_img(membership_arr, n_segments, means)\n",
    "    \n",
    "    return thresholds, binary_images, grayscale_img"
   ]
  },
  {
   "cell_type": "code",
   "execution_count": 10,
   "metadata": {},
   "outputs": [],
   "source": [
    "img = Image.open(\"GUC.jpg\")\n",
    "\n",
    "#for 3 thresholds:\n",
    "thresholds, binary_images, grayscale_img = optimal_thresh(img, 3)\n",
    "\n",
    "with open('Thresholds_3.txt', 'w') as f:\n",
    "    for t in range(len(thresholds)):\n",
    "        f.write(str(thresholds[t])+'\\n')\n",
    "\n",
    "grayscale_img.save('GUC_3.jpg')\n",
    "for i in range(len(binary_images)):\n",
    "    binary_images[i].save('GUC_3_' + str(i) + '.jpg')\n",
    "    "
   ]
  },
  {
   "cell_type": "code",
   "execution_count": 11,
   "metadata": {},
   "outputs": [],
   "source": [
    "#for 4 thresholds:\n",
    "thresholds, binary_images, grayscale_img = optimal_thresh(img, 4)\n",
    "\n",
    "with open('Thresholds_4.txt', 'w') as f:\n",
    "    for t in range(len(thresholds)):\n",
    "        f.write(str(thresholds[t])+'\\n')\n",
    "\n",
    "grayscale_img.save('GUC_4.jpg')\n",
    "for i in range(len(binary_images)):\n",
    "    binary_images[i].save('GUC_4_' + str(i) + '.jpg')\n",
    "    "
   ]
  },
  {
   "cell_type": "code",
   "execution_count": null,
   "metadata": {},
   "outputs": [],
   "source": []
  }
 ],
 "metadata": {
  "kernelspec": {
   "display_name": "Python 3",
   "language": "python",
   "name": "python3"
  },
  "language_info": {
   "codemirror_mode": {
    "name": "ipython",
    "version": 3
   },
   "file_extension": ".py",
   "mimetype": "text/x-python",
   "name": "python",
   "nbconvert_exporter": "python",
   "pygments_lexer": "ipython3",
   "version": "3.7.1"
  }
 },
 "nbformat": 4,
 "nbformat_minor": 2
}
